{
 "cells": [
  {
   "cell_type": "code",
   "execution_count": 1,
   "metadata": {
    "tags": []
   },
   "outputs": [
    {
     "name": "stdout",
     "output_type": "stream",
     "text": [
      "INFO:tensorflow:Enabling eager execution\n",
      "INFO:tensorflow:Enabling v2 tensorshape\n",
      "INFO:tensorflow:Enabling resource variables\n",
      "INFO:tensorflow:Enabling tensor equality\n",
      "INFO:tensorflow:Enabling control flow v2\n"
     ]
    }
   ],
   "source": [
    "import numpy as np\n",
    "import pandas as pd\n",
    "import matplotlib.pyplot as plt\n",
    "import seaborn as sns\n",
    "import ast\n",
    "from multiprocessing import Pool\n",
    "%matplotlib inline\n",
    "from scipy.optimize import curve_fit \n",
    "from scipy.optimize import root\n",
    "import scipy.integrate as integrate\n",
    "import scipy.special as special\n",
    "from scipy.optimize import fsolve\n",
    "from keras.layers import LSTM\n",
    "from keras.layers import BatchNormalization\n",
    "from keras.models import Sequential\n",
    "from keras.layers import Dense\n",
    "from keras.optimizers import SGD, Adam\n",
    "from keras.layers import BatchNormalization\n",
    "import keras.backend as K\n",
    "import csv\n",
    "from keras.callbacks import EarlyStopping\n",
    "from keras.utils.np_utils import to_categorical\n",
    "from sklearn.metrics import confusion_matrix, classification_report\n",
    "\n"
   ]
  },
  {
   "cell_type": "code",
   "execution_count": 48,
   "metadata": {},
   "outputs": [],
   "source": [
    "periodlength=10\n",
    "theta=.8\n",
    "epochnumber=500\n",
    "\n",
    "#Reading in the output of the R script since\n",
    "# Python's neural nets' options are superior.\n",
    "pathhh='C:\\\\Documents\\\\HypTests\\\\csvstoPython\\\\'\n",
    "\n",
    "BORSto500test = pd.read_csv (pathhh+'BORSto500test.csv')\n",
    "BORSto500train = pd.read_csv (pathhh+'BORSto500train.csv')\n",
    "BORStoBORStest = pd.read_csv (pathhh+'BORStoBORStest.csv')\n",
    "BORStoBORStrain = pd.read_csv (pathhh+'BORStoBORStrain.csv')\n",
    "MPDCto500test = pd.read_csv (pathhh+'MPDCto500test.csv')\n",
    "MPDCto500train = pd.read_csv (pathhh+'MPDCto500train.csv')\n",
    "MPDCtoBORStest = pd.read_csv (pathhh+'MPDCtoBORStest.csv')\n",
    "MPDCtoBORStrain = pd.read_csv (pathhh+'MPDCtoBORStrain.csv')\n"
   ]
  },
  {
   "cell_type": "markdown",
   "metadata": {},
   "source": [
    "# Deep Learning Techniques"
   ]
  },
  {
   "cell_type": "code",
   "execution_count": 56,
   "metadata": {},
   "outputs": [],
   "source": [
    "def fit_nn(X_train,X_test,y_train,y_test): \n",
    "    global epochnumber\n",
    "    global theta1\n",
    "    global periodlength\n",
    "    \n",
    "    y_train_cat= to_categorical(y_train)\n",
    "    y_test_cat= to_categorical(y_test)\n",
    "\n",
    "    X_train_val = X_train.values # This step is needed to write \"X_train_t\" later\n",
    "    X_test_val= X_test.values\n",
    "\n",
    "    X_train_t = X_train_val.reshape(X_train_val.shape[0], periodlength, 1)\n",
    "    X_test_t = X_test_val.reshape(X_test_val.shape[0], periodlength, 1)\n",
    "    early_stop = EarlyStopping(monitor='loss', patience=1, verbose=1)\n",
    "    K.clear_session()\n",
    "\n",
    "    model = Sequential()\n",
    "    model.add(Dense(20, input_shape=(periodlength,), activation='tanh'))\n",
    "    model.add(Dense(10, activation='relu'))\n",
    "    #model.add(Dense(10, activation='relu'))\n",
    "    model.add(Dense(2, activation='softmax'))\n",
    "\n",
    "    model.compile(loss='binary_crossentropy', optimizer='adam', metrics=['accuracy'])\n",
    "    model.fit(X_train, y_train_cat, epochs=epochnumber, verbose=0)\n",
    "    y_pred_cat = model.predict(X_test)\n",
    "\n",
    "    y_pred_class=[]\n",
    "\n",
    "\n",
    "    for i in range(len(y_pred_cat)):\n",
    "        if y_pred_cat[i][1]>theta1:\n",
    "            y_pred_class.append(1)\n",
    "        else:\n",
    "            y_pred_class.append(0)\n",
    "    y_pred_class= np.array(y_pred_class)\n",
    "    print(\"Neural Network Results\")\n",
    "    print(confusion_matrix(y_test,y_pred_class))\n",
    "    print(classification_report(y_test,y_pred_class))\n",
    "\n",
    "    "
   ]
  },
  {
   "cell_type": "code",
   "execution_count": 57,
   "metadata": {},
   "outputs": [],
   "source": [
    "# Batch Normalizer"
   ]
  },
  {
   "cell_type": "code",
   "execution_count": 58,
   "metadata": {},
   "outputs": [],
   "source": [
    "def fit_lstm_bn(X_train,X_test,y_train,y_test):\n",
    "    global epochnumber\n",
    "    global theta2\n",
    "    global periodlength\n",
    "    \n",
    "    y_train_cat= to_categorical(y_train)\n",
    "    y_test_cat= to_categorical(y_test)\n",
    "\n",
    "    X_train_val = X_train.values # This step is needed to write \"X_train_t\" later\n",
    "    X_test_val= X_test.values\n",
    "\n",
    "    X_train_t = X_train_val.reshape(X_train_val.shape[0], periodlength, 1)\n",
    "    X_test_t = X_test_val.reshape(X_test_val.shape[0], periodlength, 1)\n",
    "\n",
    "    K.clear_session()\n",
    "    model = Sequential()\n",
    "\n",
    "\n",
    "\n",
    "    model = Sequential()\n",
    "    model.add(LSTM(10, input_shape=(periodlength, 1), activation=\"tanh\"))\n",
    "    model.add(BatchNormalization())\n",
    "    model.add(Dense(20, activation='tanh'))\n",
    "    #model.add(Dense(10, activation='relu'))\n",
    "    model.add(Dense(5, activation='softmax'))\n",
    "    model.add(Dense(2, activation='softmax'))\n",
    "\n",
    "    model.compile(loss='mean_squared_error', optimizer='adam')\n",
    "    model.fit(X_train_t, y_train_cat, epochs=epochnumber,\n",
    "          batch_size=32, verbose=0)\n",
    "    y_pred_cat = model.predict(X_test_t)\n",
    "    print(y_pred_cat[20])\n",
    "    y_pred_class1=[]\n",
    "\n",
    "    for i in range(len(y_pred_cat)):\n",
    "        if y_pred_cat[i][1]>theta2:\n",
    "            y_pred_class1.append(1)\n",
    "        else:\n",
    "            y_pred_class1.append(0)\n",
    "    y_pred_class1= np.array(y_pred_class1)\n",
    "\n",
    "    print(f\"LSTM Method with Batch Normalizer...\\n\")\n",
    "    print(confusion_matrix(y_test,y_pred_class1))\n",
    "    print(classification_report(y_test,y_pred_class1))\n"
   ]
  },
  {
   "cell_type": "code",
   "execution_count": 59,
   "metadata": {},
   "outputs": [],
   "source": [
    "def predict_based_on(train,test):\n",
    "    X_train,X_test,y_train,y_test=train.drop(\"target\",axis=1),test.drop(\"target\",axis=1),train[\"target\"],test[\"target\"]\n",
    "    \n",
    "    fit_nn(X_train,X_test,y_train,y_test)\n",
    "    fit_lstm_bn(X_train,X_test,y_train,y_test)"
   ]
  },
  {
   "cell_type": "code",
   "execution_count": 78,
   "metadata": {},
   "outputs": [
    {
     "name": "stdout",
     "output_type": "stream",
     "text": [
      "Neural Network Results\n",
      "[[229  21]\n",
      " [ 50   9]]\n",
      "              precision    recall  f1-score   support\n",
      "\n",
      "           0       0.82      0.92      0.87       250\n",
      "           1       0.30      0.15      0.20        59\n",
      "\n",
      "    accuracy                           0.77       309\n",
      "   macro avg       0.56      0.53      0.53       309\n",
      "weighted avg       0.72      0.77      0.74       309\n",
      "\n",
      "[0.86242086 0.13757914]\n",
      "LSTM Method with Batch Normalizer...\n",
      "\n",
      "[[227  23]\n",
      " [ 50   9]]\n",
      "              precision    recall  f1-score   support\n",
      "\n",
      "           0       0.82      0.91      0.86       250\n",
      "           1       0.28      0.15      0.20        59\n",
      "\n",
      "    accuracy                           0.76       309\n",
      "   macro avg       0.55      0.53      0.53       309\n",
      "weighted avg       0.72      0.76      0.73       309\n",
      "\n"
     ]
    }
   ],
   "source": [
    "theta1=.9\n",
    "theta2=.8\n",
    "predict_based_on(BORStoBORStrain,BORStoBORStest)"
   ]
  },
  {
   "cell_type": "code",
   "execution_count": 79,
   "metadata": {},
   "outputs": [
    {
     "name": "stdout",
     "output_type": "stream",
     "text": [
      "Neural Network Results\n",
      "[[189  66]\n",
      " [ 33  26]]\n",
      "              precision    recall  f1-score   support\n",
      "\n",
      "           0       0.85      0.74      0.79       255\n",
      "           1       0.28      0.44      0.34        59\n",
      "\n",
      "    accuracy                           0.68       314\n",
      "   macro avg       0.57      0.59      0.57       314\n",
      "weighted avg       0.74      0.68      0.71       314\n",
      "\n",
      "[0.859488   0.14051196]\n",
      "LSTM Method with Batch Normalizer...\n",
      "\n",
      "[[242  13]\n",
      " [ 46  13]]\n",
      "              precision    recall  f1-score   support\n",
      "\n",
      "           0       0.84      0.95      0.89       255\n",
      "           1       0.50      0.22      0.31        59\n",
      "\n",
      "    accuracy                           0.81       314\n",
      "   macro avg       0.67      0.58      0.60       314\n",
      "weighted avg       0.78      0.81      0.78       314\n",
      "\n"
     ]
    }
   ],
   "source": [
    "theta1=.9\n",
    "theta2=.8\n",
    "predict_based_on(MPDCtoBORStrain,MPDCtoBORStest)"
   ]
  },
  {
   "cell_type": "code",
   "execution_count": 89,
   "metadata": {},
   "outputs": [
    {
     "name": "stdout",
     "output_type": "stream",
     "text": [
      "Neural Network Results\n",
      "[[232  44]\n",
      " [ 25   8]]\n",
      "              precision    recall  f1-score   support\n",
      "\n",
      "           0       0.90      0.84      0.87       276\n",
      "           1       0.15      0.24      0.19        33\n",
      "\n",
      "    accuracy                           0.78       309\n",
      "   macro avg       0.53      0.54      0.53       309\n",
      "weighted avg       0.82      0.78      0.80       309\n",
      "\n",
      "[0.9356345  0.06436551]\n",
      "LSTM Method with Batch Normalizer...\n",
      "\n",
      "[[184  92]\n",
      " [ 19  14]]\n",
      "              precision    recall  f1-score   support\n",
      "\n",
      "           0       0.91      0.67      0.77       276\n",
      "           1       0.13      0.42      0.20        33\n",
      "\n",
      "    accuracy                           0.64       309\n",
      "   macro avg       0.52      0.55      0.48       309\n",
      "weighted avg       0.82      0.64      0.71       309\n",
      "\n"
     ]
    }
   ],
   "source": [
    "theta1=.9\n",
    "theta2=.8\n",
    "predict_based_on(BORSto500train,BORSto500test)"
   ]
  },
  {
   "cell_type": "code",
   "execution_count": 80,
   "metadata": {},
   "outputs": [
    {
     "name": "stdout",
     "output_type": "stream",
     "text": [
      "Neural Network Results\n",
      "[[199  82]\n",
      " [ 18  15]]\n",
      "              precision    recall  f1-score   support\n",
      "\n",
      "           0       0.92      0.71      0.80       281\n",
      "           1       0.15      0.45      0.23        33\n",
      "\n",
      "    accuracy                           0.68       314\n",
      "   macro avg       0.54      0.58      0.51       314\n",
      "weighted avg       0.84      0.68      0.74       314\n",
      "\n",
      "[0.864248   0.13575204]\n",
      "LSTM Method with Batch Normalizer...\n",
      "\n",
      "[[240  41]\n",
      " [ 26   7]]\n",
      "              precision    recall  f1-score   support\n",
      "\n",
      "           0       0.90      0.85      0.88       281\n",
      "           1       0.15      0.21      0.17        33\n",
      "\n",
      "    accuracy                           0.79       314\n",
      "   macro avg       0.52      0.53      0.53       314\n",
      "weighted avg       0.82      0.79      0.80       314\n",
      "\n"
     ]
    }
   ],
   "source": [
    "theta1=.9\n",
    "theta2=.8\n",
    "predict_based_on(MPDCto500train,MPDCto500test)"
   ]
  }
 ],
 "metadata": {
  "kernelspec": {
   "display_name": "Python 3.9.1 64-bit",
   "language": "python",
   "name": "python3"
  },
  "language_info": {
   "codemirror_mode": {
    "name": "ipython",
    "version": 3
   },
   "file_extension": ".py",
   "mimetype": "text/x-python",
   "name": "python",
   "nbconvert_exporter": "python",
   "pygments_lexer": "ipython3",
   "version": "3.9.1"
  },
  "vscode": {
   "interpreter": {
    "hash": "169987767c228537e4e2c35dd6f18e194f856f259cc3084cc52b214c9fc40b07"
   }
  }
 },
 "nbformat": 4,
 "nbformat_minor": 2
}
